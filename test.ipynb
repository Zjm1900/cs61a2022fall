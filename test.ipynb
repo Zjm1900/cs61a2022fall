{
 "cells": [
  {
   "cell_type": "code",
   "execution_count": 2,
   "metadata": {},
   "outputs": [],
   "source": [
    "def num_eights(pos):\n",
    "    \"\"\"Returns the number of times 8 appears as a digit of pos.\n",
    "\n",
    "    >>> num_eights(3)\n",
    "    0\n",
    "    >>> num_eights(8)\n",
    "    1\n",
    "    >>> num_eights(88888888)\n",
    "    8\n",
    "    >>> num_eights(2638)\n",
    "    1\n",
    "    >>> num_eights(86380)\n",
    "    2\n",
    "    >>> num_eights(12345)\n",
    "    0\n",
    "    >>> num_eights(8782089)\n",
    "    3\n",
    "    >>> from construct_check import check\n",
    "    >>> # ban all assignment statements\n",
    "    >>> check(HW_SOURCE_FILE, 'num_eights',\n",
    "    ...       ['Assign', 'AnnAssign', 'AugAssign', 'NamedExpr', 'For', 'While'])\n",
    "    True\n",
    "    \"\"\"\n",
    "    \"*** YOUR CODE HERE ***\"\n",
    " \n",
    "    if pos == 8:\n",
    "        return 1\n",
    "    elif pos < 10:\n",
    "        return 0\n",
    "    \n",
    "    if pos % 10 == 8:\n",
    "        return 1 + num_eights(pos // 10)\n",
    "    else:\n",
    "        return num_eights(pos // 10)"
   ]
  },
  {
   "cell_type": "code",
   "execution_count": 6,
   "metadata": {},
   "outputs": [
    {
     "name": "stdout",
     "output_type": "stream",
     "text": [
      "1 1\n",
      "2 2\n",
      "3 3\n",
      "4 4\n",
      "5 5\n",
      "6 6\n",
      "7 7\n",
      "8 8\n",
      "7 9\n",
      "6 10\n",
      "5 11\n",
      "4 12\n",
      "3 13\n",
      "2 14\n",
      "1 15\n"
     ]
    },
    {
     "data": {
      "text/plain": [
       "1"
      ]
     },
     "execution_count": 6,
     "metadata": {},
     "output_type": "execute_result"
    }
   ],
   "source": [
    "def pingpong(n):\n",
    "    \"\"\"Return the nth element of the ping-pong sequence.\n",
    "\n",
    "    >>> pingpong(8)\n",
    "    8\n",
    "    >>> pingpong(10)\n",
    "    6\n",
    "    >>> pingpong(15)\n",
    "    1\n",
    "    >>> pingpong(21)\n",
    "    -1\n",
    "    >>> pingpong(22)\n",
    "    -2\n",
    "    >>> pingpong(30)\n",
    "    -2\n",
    "    >>> pingpong(68)\n",
    "    0\n",
    "    >>> pingpong(69)\n",
    "    -1\n",
    "    >>> pingpong(80)\n",
    "    0\n",
    "    >>> pingpong(81)\n",
    "    1\n",
    "    >>> pingpong(82)\n",
    "    0\n",
    "    >>> pingpong(100)\n",
    "    -6\n",
    "    >>> from construct_check import check\n",
    "    >>> # ban assignment statements\n",
    "    >>> check(HW_SOURCE_FILE, 'pingpong',\n",
    "    ...       ['Assign', 'AnnAssign', 'AugAssign', 'NamedExpr'])\n",
    "    True\n",
    "    \"\"\"\n",
    "    \"*** YOUR CODE HERE ***\"\n",
    "    # start = 1\n",
    "    # mode = 1\n",
    "    # for i in range(1, n):\n",
    "    #     if num_eights(i) > 0 or i % 8 == 0:\n",
    "    #         # print(i)\n",
    "    #         mode = -mode\n",
    "    #     start += mode\n",
    "    #     # print(start)\n",
    "        \n",
    "    # return start \n",
    "    def checker(i, start, mode):\n",
    "        print(start, i)\n",
    "        if i == n:\n",
    "            return start\n",
    "        if num_eights(i) > 0 or i % 8 == 0:\n",
    "            # print(i)\n",
    "            return checker(i+1, start-mode, -mode)\n",
    "        else:\n",
    "            return checker(i+1, start+mode, mode)\n",
    "        \n",
    "    return checker(1, 1, 1)\n",
    "\n",
    "pingpong(15)\n"
   ]
  }
 ],
 "metadata": {
  "kernelspec": {
   "display_name": "cs",
   "language": "python",
   "name": "python3"
  },
  "language_info": {
   "codemirror_mode": {
    "name": "ipython",
    "version": 3
   },
   "file_extension": ".py",
   "mimetype": "text/x-python",
   "name": "python",
   "nbconvert_exporter": "python",
   "pygments_lexer": "ipython3",
   "version": "3.7.16"
  },
  "orig_nbformat": 4
 },
 "nbformat": 4,
 "nbformat_minor": 2
}
